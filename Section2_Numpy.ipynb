{
 "cells": [
  {
   "cell_type": "markdown",
   "id": "6acd8d7b-98f6-4de4-aba7-4eb56c7eedf3",
   "metadata": {},
   "source": [
    "# "
   ]
  },
  {
   "cell_type": "code",
   "execution_count": 2,
   "id": "52c32105-df6f-41f0-b742-8cd623acb7aa",
   "metadata": {},
   "outputs": [],
   "source": [
    "import pandas as pd\n",
    "import numpy as np\n",
    "import matplotlib.pyplot as plt\n",
    "import seaborn as sns"
   ]
  },
  {
   "cell_type": "code",
   "execution_count": 7,
   "id": "5389462f-7119-45b7-8aff-1389c2c1ca76",
   "metadata": {},
   "outputs": [
    {
     "name": "stdout",
     "output_type": "stream",
     "text": [
      "[1 2 3 4 5]\n"
     ]
    }
   ],
   "source": [
    "oneDDArray = np.array([1,2,3,4,5])\n",
    "print(oneDDArray)"
   ]
  },
  {
   "cell_type": "code",
   "execution_count": null,
   "id": "dcc9907b-d149-4fc5-b7ff-bb176f93af56",
   "metadata": {},
   "outputs": [],
   "source": [
    "Sprawdzanie wymiary tablicy"
   ]
  },
  {
   "cell_type": "code",
   "execution_count": 8,
   "id": "e4e7224d-a301-4c41-b4aa-4d799d08fe8b",
   "metadata": {},
   "outputs": [
    {
     "name": "stdout",
     "output_type": "stream",
     "text": [
      "1\n"
     ]
    }
   ],
   "source": [
    "print(ondeDArray.ndim)\n"
   ]
  },
  {
   "cell_type": "code",
   "execution_count": 34,
   "id": "cec83bc4-41ba-4193-af59-e6f7ca1344fa",
   "metadata": {},
   "outputs": [
    {
     "name": "stdout",
     "output_type": "stream",
     "text": [
      "[[1 2 3 4 5]\n",
      " [5 4 3 2 1]]\n"
     ]
    }
   ],
   "source": [
    "twoDArray = np.array([[1,2,3,4,5],[5,4,3,2,1]])\n",
    "print(twoDArray)"
   ]
  },
  {
   "cell_type": "code",
   "execution_count": 11,
   "id": "a834e12f-9c45-4cb4-b901-376e858a0363",
   "metadata": {},
   "outputs": [
    {
     "name": "stdout",
     "output_type": "stream",
     "text": [
      "2\n"
     ]
    }
   ],
   "source": [
    "print(twoDArray.ndim)"
   ]
  },
  {
   "cell_type": "code",
   "execution_count": 12,
   "id": "429e70a6-acc9-42b7-a007-2c2759af3543",
   "metadata": {},
   "outputs": [
    {
     "name": "stdout",
     "output_type": "stream",
     "text": [
      "[[[ 1  2  3]\n",
      "  [-1 -2 -3]]\n",
      "\n",
      " [[ 4  5  6]\n",
      "  [-4 -5 -6]]]\n"
     ]
    }
   ],
   "source": [
    "threeDArray = np.array([[[1,2,3],[-1,-2,-3]],[[4,5,6],[-4,-5,-6]]])\n",
    "print(threeDArray)"
   ]
  },
  {
   "cell_type": "code",
   "execution_count": 13,
   "id": "f238b132-1875-4afb-a899-34f44b3756d5",
   "metadata": {},
   "outputs": [
    {
     "name": "stdout",
     "output_type": "stream",
     "text": [
      "3\n"
     ]
    }
   ],
   "source": [
    "print(threeDArray.ndim)"
   ]
  },
  {
   "cell_type": "code",
   "execution_count": 20,
   "id": "d41c53a8-c9c0-440f-9e1b-864f3fca6732",
   "metadata": {},
   "outputs": [
    {
     "name": "stdout",
     "output_type": "stream",
     "text": [
      "[[1 2 3 4 5]\n",
      " [5 4 3 2 1]]\n",
      "5\n",
      "[5 4 3 2 1]\n"
     ]
    }
   ],
   "source": [
    "print(twoDArray)\n",
    "print(twoDArray[1][0])\n",
    "print(twoDArray[1])\n"
   ]
  },
  {
   "cell_type": "code",
   "execution_count": 30,
   "id": "614f44c4-a377-42ac-a37b-02aebc5cb8ea",
   "metadata": {},
   "outputs": [
    {
     "name": "stdout",
     "output_type": "stream",
     "text": [
      "[[[ 1  2  3]\n",
      "  [-1 -2 -3]]\n",
      "\n",
      " [[ 4  5  6]\n",
      "  [-4 -5 -6]]]\n",
      "5\n",
      "-4\n",
      "-3\n"
     ]
    }
   ],
   "source": [
    "print(threeDArray)\n",
    "\n",
    "print(threeDArray[1][0][1])\n",
    "print(threeDArray[1][1][0])\n",
    "print(threeDArray[0][1][2])"
   ]
  },
  {
   "cell_type": "code",
   "execution_count": 32,
   "id": "9f1dfe5e-528b-4a75-8549-d344b5c4aa9f",
   "metadata": {},
   "outputs": [
    {
     "name": "stdout",
     "output_type": "stream",
     "text": [
      "[[[ 1  2  3]\n",
      "  [-1 -2 -3]]\n",
      "\n",
      " [[ 4  5  6]\n",
      "  [-4 -5 -6]]]\n",
      "(2, 2, 3)\n"
     ]
    }
   ],
   "source": [
    "print(threeDArray)\n",
    "print(threeDArray.shape)\n"
   ]
  },
  {
   "cell_type": "code",
   "execution_count": 36,
   "id": "f4b59459-5a3d-422e-848b-dbc31ebf81fa",
   "metadata": {},
   "outputs": [
    {
     "name": "stdout",
     "output_type": "stream",
     "text": [
      "[1 2 3 4 5]\n",
      "[5 4 3 2 1]\n"
     ]
    }
   ],
   "source": [
    "for i in twoDArray:\n",
    "    print(i)"
   ]
  },
  {
   "cell_type": "code",
   "execution_count": 39,
   "id": "32dafe91-f15d-440e-a4b6-d6258b2391ec",
   "metadata": {},
   "outputs": [
    {
     "name": "stdout",
     "output_type": "stream",
     "text": [
      "1\n",
      "2\n",
      "3\n",
      "4\n",
      "5\n",
      "5\n",
      "4\n",
      "3\n",
      "2\n",
      "1\n"
     ]
    }
   ],
   "source": [
    "for i in twoDArray:\n",
    "    for j in i:\n",
    "        print(j)"
   ]
  },
  {
   "cell_type": "code",
   "execution_count": 40,
   "id": "70ae5a4c-79c5-44a5-b1b2-9b7bc31b504b",
   "metadata": {},
   "outputs": [
    {
     "name": "stdout",
     "output_type": "stream",
     "text": [
      "1\n",
      "2\n",
      "3\n",
      "-1\n",
      "-2\n",
      "-3\n",
      "4\n",
      "5\n",
      "6\n",
      "-4\n",
      "-5\n",
      "-6\n"
     ]
    }
   ],
   "source": [
    "for i in threeDArray:\n",
    "    for j in i:\n",
    "        for k in j:\n",
    "            print(k)"
   ]
  },
  {
   "cell_type": "code",
   "execution_count": 42,
   "id": "1eb86259-ead6-4511-b2be-c332c84ce92d",
   "metadata": {},
   "outputs": [
    {
     "name": "stdout",
     "output_type": "stream",
     "text": [
      "[0. 0. 0. 0. 0. 0. 0. 0. 0. 0.]\n"
     ]
    }
   ],
   "source": [
    "zerosArray = np.zeros(10)\n",
    "print(zerosArray)"
   ]
  },
  {
   "cell_type": "code",
   "execution_count": 43,
   "id": "e634728d-b7ef-4aa8-b4d4-0f8ea879875e",
   "metadata": {},
   "outputs": [
    {
     "name": "stdout",
     "output_type": "stream",
     "text": [
      "[1. 1. 1. 1. 1. 1. 1. 1. 1. 1.]\n"
     ]
    }
   ],
   "source": [
    "onesArray= np.ones(10)\n",
    "print(onesArray)"
   ]
  },
  {
   "cell_type": "code",
   "execution_count": 48,
   "id": "58dd8d53-02a4-4b4f-b35e-94b54740e1fa",
   "metadata": {},
   "outputs": [],
   "source": [
    "onesArray = onesArray.astype(int)"
   ]
  },
  {
   "cell_type": "code",
   "execution_count": 49,
   "id": "2a87ad82-58e8-42fc-a63c-3174cef2621b",
   "metadata": {},
   "outputs": [
    {
     "name": "stdout",
     "output_type": "stream",
     "text": [
      "[1 1 1 1 1 1 1 1 1 1]\n"
     ]
    }
   ],
   "source": [
    "print(onesArray)"
   ]
  },
  {
   "cell_type": "code",
   "execution_count": 51,
   "id": "4d18383a-52ed-45aa-ada4-dc46894331a1",
   "metadata": {},
   "outputs": [
    {
     "name": "stdout",
     "output_type": "stream",
     "text": [
      "[5.4 5.4 5.4 5.4 5.4 5.4 5.4 5.4 5.4 5.4]\n"
     ]
    }
   ],
   "source": [
    "fivesArray = np.full(10,5.4)\n",
    "print(fivesArray)"
   ]
  },
  {
   "cell_type": "code",
   "execution_count": 52,
   "id": "942a10fc-611a-471d-a5a3-9fee926e4df5",
   "metadata": {},
   "outputs": [
    {
     "name": "stdout",
     "output_type": "stream",
     "text": [
      "[[1 2 3]\n",
      " [4 5 6]]\n"
     ]
    }
   ],
   "source": [
    "matrix = np.array([[1,2,3],[4,5,6]])\n",
    "print(matrix)"
   ]
  },
  {
   "cell_type": "code",
   "execution_count": 53,
   "id": "cb525e70-e291-4b8f-95d6-11e4b5fe4d44",
   "metadata": {},
   "outputs": [
    {
     "name": "stdout",
     "output_type": "stream",
     "text": [
      "[[3 4 5]\n",
      " [6 7 8]]\n"
     ]
    }
   ],
   "source": [
    "print(matrix + 2)"
   ]
  },
  {
   "cell_type": "code",
   "execution_count": null,
   "id": "c967af45-67dc-4483-b9eb-2c5fbfc2cc51",
   "metadata": {},
   "outputs": [],
   "source": [
    "w listach tak nie mozna "
   ]
  },
  {
   "cell_type": "code",
   "execution_count": 55,
   "id": "8d91e32d-c4b9-4478-9b6e-e122aa3a917a",
   "metadata": {},
   "outputs": [
    {
     "name": "stdout",
     "output_type": "stream",
     "text": [
      "[[ 2  4  6]\n",
      " [ 8 10 12]]\n"
     ]
    }
   ],
   "source": [
    "print(matrix*2)"
   ]
  },
  {
   "cell_type": "code",
   "execution_count": 56,
   "id": "19a34f28-ca0f-4956-b778-588befeae15f",
   "metadata": {},
   "outputs": [
    {
     "name": "stdout",
     "output_type": "stream",
     "text": [
      "[[1, 2, 3], [4, 5, 6], [1, 2, 3], [4, 5, 6]]\n"
     ]
    }
   ],
   "source": [
    "pythonList = [[1,2,3],[4,5,6]]\n",
    "print(pythonList*2)"
   ]
  },
  {
   "cell_type": "code",
   "execution_count": 57,
   "id": "b8845f9e-4217-423d-a7a0-b6b88af02d80",
   "metadata": {},
   "outputs": [
    {
     "name": "stdout",
     "output_type": "stream",
     "text": [
      "[[0.5 1.  1.5]\n",
      " [2.  2.5 3. ]]\n"
     ]
    }
   ],
   "source": [
    "print(matrix/2)"
   ]
  },
  {
   "cell_type": "code",
   "execution_count": 58,
   "id": "f713e2bf-7a8c-4212-83ce-9fab99770a7e",
   "metadata": {},
   "outputs": [
    {
     "name": "stdout",
     "output_type": "stream",
     "text": [
      "[[0 1 1]\n",
      " [2 2 3]]\n"
     ]
    }
   ],
   "source": [
    "print(matrix//2)"
   ]
  },
  {
   "cell_type": "code",
   "execution_count": 59,
   "id": "4aa08902-1602-46ef-9ea1-ca89d3290bbd",
   "metadata": {},
   "outputs": [
    {
     "name": "stdout",
     "output_type": "stream",
     "text": [
      "[[ 1  4  9]\n",
      " [16 25 36]]\n"
     ]
    }
   ],
   "source": [
    "print(matrix**2)"
   ]
  },
  {
   "cell_type": "code",
   "execution_count": 60,
   "id": "bd3b9886-568a-404c-a39e-d8bac642d790",
   "metadata": {},
   "outputs": [
    {
     "name": "stdout",
     "output_type": "stream",
     "text": [
      "[[1 4]\n",
      " [2 5]\n",
      " [3 6]]\n"
     ]
    }
   ],
   "source": [
    "print(matrix.T)"
   ]
  },
  {
   "cell_type": "code",
   "execution_count": 62,
   "id": "747eed57-10ce-441d-8b1a-9d83047ab54e",
   "metadata": {},
   "outputs": [
    {
     "name": "stdout",
     "output_type": "stream",
     "text": [
      "[[-1 -2 -3]\n",
      " [-4 -5 -6]]\n"
     ]
    }
   ],
   "source": [
    "matrix2=np.array([[-1,-2,-3],[-4,-5,-6]])\n",
    "print(matrix2)\n"
   ]
  },
  {
   "cell_type": "code",
   "execution_count": 64,
   "id": "af1961e4-bece-4c30-b87c-f6820514d8b4",
   "metadata": {},
   "outputs": [
    {
     "name": "stdout",
     "output_type": "stream",
     "text": [
      "[[0 0 0]\n",
      " [0 0 0]]\n"
     ]
    }
   ],
   "source": [
    "print(matrix+matrix2)"
   ]
  },
  {
   "cell_type": "code",
   "execution_count": 65,
   "id": "b85bbda5-1824-454a-80ee-293c34c87392",
   "metadata": {},
   "outputs": [
    {
     "name": "stdout",
     "output_type": "stream",
     "text": [
      "[[ -1  -4  -9]\n",
      " [-16 -25 -36]]\n"
     ]
    }
   ],
   "source": [
    "print(matrix*matrix2)"
   ]
  },
  {
   "cell_type": "code",
   "execution_count": 66,
   "id": "adb7830a-19c6-418f-b100-42eb47f2477a",
   "metadata": {},
   "outputs": [
    {
     "name": "stdout",
     "output_type": "stream",
     "text": [
      "[[-1. -1. -1.]\n",
      " [-1. -1. -1.]]\n"
     ]
    }
   ],
   "source": [
    "print(matrix/matrix2)"
   ]
  },
  {
   "cell_type": "code",
   "execution_count": 68,
   "id": "49f1a445-04fc-47a2-a052-b340fadde030",
   "metadata": {},
   "outputs": [
    {
     "name": "stdout",
     "output_type": "stream",
     "text": [
      "[[-1 -1 -1]\n",
      " [-1 -1 -1]]\n"
     ]
    }
   ],
   "source": [
    "print(matrix//matrix2)"
   ]
  },
  {
   "cell_type": "code",
   "execution_count": 70,
   "id": "c6ac3d12-1c72-4220-a465-77d6a7782db7",
   "metadata": {},
   "outputs": [
    {
     "name": "stdout",
     "output_type": "stream",
     "text": [
      "[[1 2 3]\n",
      " [4 5 6]]\n"
     ]
    }
   ],
   "source": [
    "print(matrix)"
   ]
  },
  {
   "cell_type": "code",
   "execution_count": 71,
   "id": "ca8b2dee-e853-40a5-b5ce-702f7e54a56d",
   "metadata": {},
   "outputs": [
    {
     "name": "stdout",
     "output_type": "stream",
     "text": [
      "[[-1 -2 -3]\n",
      " [-4 -5 -6]]\n"
     ]
    }
   ],
   "source": [
    "print(matrix2)"
   ]
  },
  {
   "cell_type": "code",
   "execution_count": 74,
   "id": "abfe5658-ef33-4d79-9399-459993455ff9",
   "metadata": {},
   "outputs": [],
   "source": [
    "m1=np.array([[1,2,3],[4,5,6],[0,0,0]])\n",
    "m2=np.array([[-1,-2,-3,],[-4,-5,-6],[0,0,0]])\n"
   ]
  },
  {
   "cell_type": "code",
   "execution_count": 75,
   "id": "e7c52d44-701c-47ad-bd2d-3470b9692907",
   "metadata": {},
   "outputs": [
    {
     "data": {
      "text/plain": [
       "array([[ -9, -12, -15],\n",
       "       [-24, -33, -42],\n",
       "       [  0,   0,   0]])"
      ]
     },
     "execution_count": 75,
     "metadata": {},
     "output_type": "execute_result"
    }
   ],
   "source": [
    "np.matmul(m1,m2)"
   ]
  },
  {
   "cell_type": "code",
   "execution_count": 76,
   "id": "4bb20452-ad13-400c-b37c-b3b626517c56",
   "metadata": {},
   "outputs": [
    {
     "data": {
      "text/plain": [
       "0"
      ]
     },
     "execution_count": 76,
     "metadata": {},
     "output_type": "execute_result"
    }
   ],
   "source": [
    "np.min(m1)"
   ]
  },
  {
   "cell_type": "code",
   "execution_count": 77,
   "id": "d50a10d4-eec1-4a70-8139-0bccb033e2ec",
   "metadata": {},
   "outputs": [
    {
     "data": {
      "text/plain": [
       "6"
      ]
     },
     "execution_count": 77,
     "metadata": {},
     "output_type": "execute_result"
    }
   ],
   "source": [
    "np.max(m1)"
   ]
  },
  {
   "cell_type": "code",
   "execution_count": 78,
   "id": "945d0f11-f927-48a5-845d-65ab82d024bf",
   "metadata": {},
   "outputs": [
    {
     "data": {
      "text/plain": [
       "21"
      ]
     },
     "execution_count": 78,
     "metadata": {},
     "output_type": "execute_result"
    }
   ],
   "source": [
    "np.sum(m1)"
   ]
  },
  {
   "cell_type": "code",
   "execution_count": 80,
   "id": "42731546-75e4-4ccf-92d9-13d5f413e209",
   "metadata": {},
   "outputs": [
    {
     "data": {
      "text/plain": [
       "2.3333333333333335"
      ]
     },
     "execution_count": 80,
     "metadata": {},
     "output_type": "execute_result"
    }
   ],
   "source": [
    "np.mean(m1)\n"
   ]
  },
  {
   "cell_type": "code",
   "execution_count": 81,
   "id": "e5ff9cd5-14a0-4704-b2ef-5756ccba8932",
   "metadata": {},
   "outputs": [
    {
     "data": {
      "text/plain": [
       "2.160246899469287"
      ]
     },
     "execution_count": 81,
     "metadata": {},
     "output_type": "execute_result"
    }
   ],
   "source": [
    "np.std(m1)"
   ]
  },
  {
   "cell_type": "code",
   "execution_count": 82,
   "id": "73402276-49bd-48e7-97c4-d0cb65c8f557",
   "metadata": {},
   "outputs": [
    {
     "data": {
      "text/plain": [
       "2.0"
      ]
     },
     "execution_count": 82,
     "metadata": {},
     "output_type": "execute_result"
    }
   ],
   "source": [
    "np.median(m1)"
   ]
  },
  {
   "cell_type": "code",
   "execution_count": null,
   "id": "8deef4c2-91b5-4dec-a3f1-c57e1121ef93",
   "metadata": {},
   "outputs": [],
   "source": []
  }
 ],
 "metadata": {
  "kernelspec": {
   "display_name": "Python 3 (ipykernel)",
   "language": "python",
   "name": "python3"
  },
  "language_info": {
   "codemirror_mode": {
    "name": "ipython",
    "version": 3
   },
   "file_extension": ".py",
   "mimetype": "text/x-python",
   "name": "python",
   "nbconvert_exporter": "python",
   "pygments_lexer": "ipython3",
   "version": "3.11.7"
  }
 },
 "nbformat": 4,
 "nbformat_minor": 5
}
